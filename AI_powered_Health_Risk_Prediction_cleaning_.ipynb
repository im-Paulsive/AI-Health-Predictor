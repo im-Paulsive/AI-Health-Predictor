{
  "nbformat": 4,
  "nbformat_minor": 0,
  "metadata": {
    "colab": {
      "provenance": []
    },
    "kernelspec": {
      "name": "python3",
      "display_name": "Python 3"
    },
    "language_info": {
      "name": "python"
    }
  },
  "cells": [
    {
      "cell_type": "code",
      "source": [
        "import pandas as pd\n",
        "import numpy as np\n",
        "import matplotlib.pyplot as plt\n",
        "import seaborn as sns"
      ],
      "metadata": {
        "id": "PneyCl_kO9ju"
      },
      "execution_count": null,
      "outputs": []
    },
    {
      "cell_type": "code",
      "source": [
        "\n",
        "demographic=pd.read_csv('demographic.csv')\n",
        "diet=pd.read_csv('diet.csv')\n",
        "examination=pd.read_csv('examination.csv')\n",
        "labs=pd.read_csv('labs.csv')\n",
        "medications=pd.read_csv('medications.csv',encoding='latin1')\n",
        "questionnaire=pd.read_csv('questionnaire.csv')\n",
        "\n",
        "#demographic.columns\n",
        "#diet.columns\n",
        "#examination.columns\n",
        "#labs.columns\n",
        "#medications.columns\n",
        "questionnaire.columns\n",
        "\n",
        "#demographic.head()\n",
        "#diet.head()\n",
        "#examination.head()\n",
        "#labs.head()\n",
        "#medications.head()\n",
        "#questionnaire.head()\n",
        "\n"
      ],
      "metadata": {
        "id": "rnhpvd30g3dO",
        "colab": {
          "base_uri": "https://localhost:8080/"
        },
        "outputId": "c5fa87ec-4b31-45d8-910a-340a8a08fd9c"
      },
      "execution_count": null,
      "outputs": [
        {
          "output_type": "execute_result",
          "data": {
            "text/plain": [
              "Index(['SEQN', 'ACD011A', 'ACD011B', 'ACD011C', 'ACD040', 'ACD110', 'ALQ101',\n",
              "       'ALQ110', 'ALQ120Q', 'ALQ120U',\n",
              "       ...\n",
              "       'WHD080U', 'WHD080L', 'WHD110', 'WHD120', 'WHD130', 'WHD140', 'WHQ150',\n",
              "       'WHQ030M', 'WHQ500', 'WHQ520'],\n",
              "      dtype='object', length=953)"
            ]
          },
          "metadata": {},
          "execution_count": 67
        }
      ]
    },
    {
      "cell_type": "code",
      "source": [
        "medications.info()\n",
        "med_agg=medications.groupby(\"SEQN\")[\"RXDDRUG\"].apply(lambda x:\",\".join(x.dropna().astype(str))).reset_index()\n",
        "merged_df = demographic.merge(diet, on=\"SEQN\", how=\"left\")\n",
        "merged_df = merged_df.merge(examination, on=\"SEQN\", how=\"left\")\n",
        "merged_df = merged_df.merge(labs, on=\"SEQN\", how=\"left\")\n",
        "merged_df = merged_df.merge(questionnaire, on=\"SEQN\", how=\"left\")\n",
        "merged_df = merged_df.merge(med_agg, on=\"SEQN\", how=\"left\")\n",
        "\n",
        "merged_df.shape\n"
      ],
      "metadata": {
        "colab": {
          "base_uri": "https://localhost:8080/"
        },
        "id": "8FQtYn6xivvy",
        "outputId": "54112c4e-028f-410f-8be5-1583637f7360"
      },
      "execution_count": null,
      "outputs": [
        {
          "output_type": "stream",
          "name": "stdout",
          "text": [
            "<class 'pandas.core.frame.DataFrame'>\n",
            "RangeIndex: 20194 entries, 0 to 20193\n",
            "Data columns (total 13 columns):\n",
            " #   Column    Non-Null Count  Dtype  \n",
            "---  ------    --------------  -----  \n",
            " 0   SEQN      20194 non-null  int64  \n",
            " 1   RXDUSE    20194 non-null  int64  \n",
            " 2   RXDDRUG   14100 non-null  object \n",
            " 3   RXDDRGID  14016 non-null  object \n",
            " 4   RXQSEEN   14019 non-null  float64\n",
            " 5   RXDDAYS   14018 non-null  float64\n",
            " 6   RXDRSC1   14022 non-null  object \n",
            " 7   RXDRSC2   714 non-null    object \n",
            " 8   RXDRSC3   127 non-null    object \n",
            " 9   RXDRSD1   13633 non-null  object \n",
            " 10  RXDRSD2   714 non-null    object \n",
            " 11  RXDRSD3   127 non-null    object \n",
            " 12  RXDCOUNT  14100 non-null  float64\n",
            "dtypes: float64(3), int64(2), object(8)\n",
            "memory usage: 2.0+ MB\n"
          ]
        },
        {
          "output_type": "execute_result",
          "data": {
            "text/plain": [
              "(10175, 1813)"
            ]
          },
          "metadata": {},
          "execution_count": 68
        }
      ]
    },
    {
      "cell_type": "code",
      "source": [
        "merged_df['DIQ010']"
      ],
      "metadata": {
        "colab": {
          "base_uri": "https://localhost:8080/",
          "height": 458
        },
        "id": "C0xNQnhhwqne",
        "outputId": "0d961f12-0226-4301-b884-26bf8f1c2d12"
      },
      "execution_count": null,
      "outputs": [
        {
          "output_type": "execute_result",
          "data": {
            "text/plain": [
              "0        1.0\n",
              "1        1.0\n",
              "2        1.0\n",
              "3        2.0\n",
              "4        2.0\n",
              "        ... \n",
              "10170    2.0\n",
              "10171    2.0\n",
              "10172    2.0\n",
              "10173    2.0\n",
              "10174    2.0\n",
              "Name: DIQ010, Length: 10175, dtype: float64"
            ],
            "text/html": [
              "<div>\n",
              "<style scoped>\n",
              "    .dataframe tbody tr th:only-of-type {\n",
              "        vertical-align: middle;\n",
              "    }\n",
              "\n",
              "    .dataframe tbody tr th {\n",
              "        vertical-align: top;\n",
              "    }\n",
              "\n",
              "    .dataframe thead th {\n",
              "        text-align: right;\n",
              "    }\n",
              "</style>\n",
              "<table border=\"1\" class=\"dataframe\">\n",
              "  <thead>\n",
              "    <tr style=\"text-align: right;\">\n",
              "      <th></th>\n",
              "      <th>DIQ010</th>\n",
              "    </tr>\n",
              "  </thead>\n",
              "  <tbody>\n",
              "    <tr>\n",
              "      <th>0</th>\n",
              "      <td>1.0</td>\n",
              "    </tr>\n",
              "    <tr>\n",
              "      <th>1</th>\n",
              "      <td>1.0</td>\n",
              "    </tr>\n",
              "    <tr>\n",
              "      <th>2</th>\n",
              "      <td>1.0</td>\n",
              "    </tr>\n",
              "    <tr>\n",
              "      <th>3</th>\n",
              "      <td>2.0</td>\n",
              "    </tr>\n",
              "    <tr>\n",
              "      <th>4</th>\n",
              "      <td>2.0</td>\n",
              "    </tr>\n",
              "    <tr>\n",
              "      <th>...</th>\n",
              "      <td>...</td>\n",
              "    </tr>\n",
              "    <tr>\n",
              "      <th>10170</th>\n",
              "      <td>2.0</td>\n",
              "    </tr>\n",
              "    <tr>\n",
              "      <th>10171</th>\n",
              "      <td>2.0</td>\n",
              "    </tr>\n",
              "    <tr>\n",
              "      <th>10172</th>\n",
              "      <td>2.0</td>\n",
              "    </tr>\n",
              "    <tr>\n",
              "      <th>10173</th>\n",
              "      <td>2.0</td>\n",
              "    </tr>\n",
              "    <tr>\n",
              "      <th>10174</th>\n",
              "      <td>2.0</td>\n",
              "    </tr>\n",
              "  </tbody>\n",
              "</table>\n",
              "<p>10175 rows × 1 columns</p>\n",
              "</div><br><label><b>dtype:</b> float64</label>"
            ]
          },
          "metadata": {},
          "execution_count": 69
        }
      ]
    },
    {
      "cell_type": "code",
      "source": [
        "missing_values = merged_df.isnull().sum().sort_values(ascending=False)\n",
        "missing_values.head(20)\n"
      ],
      "metadata": {
        "colab": {
          "base_uri": "https://localhost:8080/",
          "height": 711
        },
        "id": "L4-EJEn_i-8i",
        "outputId": "83df541e-016d-4ac8-e458-640cb61e2cfb"
      },
      "execution_count": null,
      "outputs": [
        {
          "output_type": "execute_result",
          "data": {
            "text/plain": [
              "MCQ240R     10175\n",
              "BMIHEAD     10175\n",
              "MCQ240I     10175\n",
              "DRQSDT5     10175\n",
              "SMQ690J     10175\n",
              "SMQ861      10175\n",
              "OSQ040BI    10174\n",
              "OSQ040BJ    10174\n",
              "OSQ040BH    10174\n",
              "OSD030BI    10174\n",
              "OSD030BG    10174\n",
              "OSD030BH    10174\n",
              "OSQ040BG    10174\n",
              "PAQ759T     10174\n",
              "OSD050CB    10174\n",
              "OSD030BJ    10174\n",
              "MCQ240V     10174\n",
              "OSQ040BF    10173\n",
              "MCQ240H     10173\n",
              "OSD050BD    10173\n",
              "dtype: int64"
            ],
            "text/html": [
              "<div>\n",
              "<style scoped>\n",
              "    .dataframe tbody tr th:only-of-type {\n",
              "        vertical-align: middle;\n",
              "    }\n",
              "\n",
              "    .dataframe tbody tr th {\n",
              "        vertical-align: top;\n",
              "    }\n",
              "\n",
              "    .dataframe thead th {\n",
              "        text-align: right;\n",
              "    }\n",
              "</style>\n",
              "<table border=\"1\" class=\"dataframe\">\n",
              "  <thead>\n",
              "    <tr style=\"text-align: right;\">\n",
              "      <th></th>\n",
              "      <th>0</th>\n",
              "    </tr>\n",
              "  </thead>\n",
              "  <tbody>\n",
              "    <tr>\n",
              "      <th>MCQ240R</th>\n",
              "      <td>10175</td>\n",
              "    </tr>\n",
              "    <tr>\n",
              "      <th>BMIHEAD</th>\n",
              "      <td>10175</td>\n",
              "    </tr>\n",
              "    <tr>\n",
              "      <th>MCQ240I</th>\n",
              "      <td>10175</td>\n",
              "    </tr>\n",
              "    <tr>\n",
              "      <th>DRQSDT5</th>\n",
              "      <td>10175</td>\n",
              "    </tr>\n",
              "    <tr>\n",
              "      <th>SMQ690J</th>\n",
              "      <td>10175</td>\n",
              "    </tr>\n",
              "    <tr>\n",
              "      <th>SMQ861</th>\n",
              "      <td>10175</td>\n",
              "    </tr>\n",
              "    <tr>\n",
              "      <th>OSQ040BI</th>\n",
              "      <td>10174</td>\n",
              "    </tr>\n",
              "    <tr>\n",
              "      <th>OSQ040BJ</th>\n",
              "      <td>10174</td>\n",
              "    </tr>\n",
              "    <tr>\n",
              "      <th>OSQ040BH</th>\n",
              "      <td>10174</td>\n",
              "    </tr>\n",
              "    <tr>\n",
              "      <th>OSD030BI</th>\n",
              "      <td>10174</td>\n",
              "    </tr>\n",
              "    <tr>\n",
              "      <th>OSD030BG</th>\n",
              "      <td>10174</td>\n",
              "    </tr>\n",
              "    <tr>\n",
              "      <th>OSD030BH</th>\n",
              "      <td>10174</td>\n",
              "    </tr>\n",
              "    <tr>\n",
              "      <th>OSQ040BG</th>\n",
              "      <td>10174</td>\n",
              "    </tr>\n",
              "    <tr>\n",
              "      <th>PAQ759T</th>\n",
              "      <td>10174</td>\n",
              "    </tr>\n",
              "    <tr>\n",
              "      <th>OSD050CB</th>\n",
              "      <td>10174</td>\n",
              "    </tr>\n",
              "    <tr>\n",
              "      <th>OSD030BJ</th>\n",
              "      <td>10174</td>\n",
              "    </tr>\n",
              "    <tr>\n",
              "      <th>MCQ240V</th>\n",
              "      <td>10174</td>\n",
              "    </tr>\n",
              "    <tr>\n",
              "      <th>OSQ040BF</th>\n",
              "      <td>10173</td>\n",
              "    </tr>\n",
              "    <tr>\n",
              "      <th>MCQ240H</th>\n",
              "      <td>10173</td>\n",
              "    </tr>\n",
              "    <tr>\n",
              "      <th>OSD050BD</th>\n",
              "      <td>10173</td>\n",
              "    </tr>\n",
              "  </tbody>\n",
              "</table>\n",
              "</div><br><label><b>dtype:</b> int64</label>"
            ]
          },
          "metadata": {},
          "execution_count": 70
        }
      ]
    },
    {
      "cell_type": "code",
      "source": [
        "# Drop fully empty columns\n",
        "merged_df.dropna(axis=1, how='all', inplace=True)\n"
      ],
      "metadata": {
        "id": "3cuy3VF_Pw_z"
      },
      "execution_count": null,
      "outputs": []
    },
    {
      "cell_type": "code",
      "source": [
        "# Drop rows where more than 80% of values are missing\n",
        "threshold = merged_df.shape[1] * 0.2\n",
        "merged_df = merged_df.dropna(thresh=threshold)\n"
      ],
      "metadata": {
        "id": "xRqUGgGoP2eK"
      },
      "execution_count": null,
      "outputs": []
    },
    {
      "cell_type": "code",
      "source": [
        "print(merged_df[\"MCQ160B\"].mode(dropna=True))"
      ],
      "metadata": {
        "colab": {
          "base_uri": "https://localhost:8080/"
        },
        "id": "5u7cac6a-2ez",
        "outputId": "6f5bbdc7-6891-4a71-b6cd-977c90dba8c1"
      },
      "execution_count": null,
      "outputs": [
        {
          "output_type": "stream",
          "name": "stdout",
          "text": [
            "0    2.0\n",
            "Name: MCQ160B, dtype: float64\n"
          ]
        }
      ]
    },
    {
      "cell_type": "code",
      "source": [
        "num_category=[]\n",
        "for col in merged_df.select_dtypes(include=\"number\").columns:\n",
        "  if merged_df[col].nunique(dropna=True)<=10:\n",
        "    num_category.append(col)\n",
        "\n",
        "\n",
        "#Fill NaNs using mode before changing type\n",
        "for col in num_category:\n",
        "    mode_val = merged_df[col].mode(dropna=True)\n",
        "\n",
        "    if not mode_val.empty:\n",
        "        fill_val = mode_val[0]\n",
        "        # Fill NaNs\n",
        "        merged_df[col] = merged_df[col].fillna(fill_val)\n",
        "    else:\n",
        "        merged_df[col] = merged_df[col].fillna(\"Unknown\")\n",
        "\n",
        "    # Optional: convert to category type AFTER filling\n",
        "    merged_df[col] = merged_df[col].astype('category')\n",
        "\n",
        "#replace with mean value of column\n",
        "for col in merged_df.select_dtypes(include=\"number\").columns:\n",
        "    merged_df[col] = merged_df[col].fillna(merged_df[col].mean())\n",
        "\n",
        "#replace with mode for categorical columns\n",
        "for col in merged_df.select_dtypes(include='object').columns:\n",
        "    merged_df[col] = merged_df[col].fillna(merged_df[col].mode(dropna=True)[0])\n"
      ],
      "metadata": {
        "id": "YRdojstlP8D_"
      },
      "execution_count": null,
      "outputs": []
    },
    {
      "cell_type": "code",
      "source": [
        "\n",
        "# Check high-cardinality object columns before encoding\n",
        "# To find high-cardinality categorical columns:\n",
        "for col in merged_df.select_dtypes(include=\"object\"):\n",
        "    print(f\"{col}: {merged_df[col].nunique()} unique values\")\n",
        "low_card_col= [col for col in merged_df.select_dtypes(include='object') if merged_df[col].nunique() < 50]\n",
        "merged_df=pd.get_dummies(merged_df, columns=low_card_col, drop_first=True)\n",
        "merged_df.shape"
      ],
      "metadata": {
        "colab": {
          "base_uri": "https://localhost:8080/"
        },
        "id": "lAyWlcBhSF0Z",
        "outputId": "7740abfb-04bc-4abc-b85b-ed2659d57b3e"
      },
      "execution_count": null,
      "outputs": [
        {
          "output_type": "stream",
          "name": "stdout",
          "text": [
            "OHX02CTC: 11 unique values\n",
            "OHX03CTC: 12 unique values\n",
            "OHX04CTC: 12 unique values\n",
            "OHX05CTC: 14 unique values\n",
            "OHX06CTC: 13 unique values\n",
            "OHX07CTC: 14 unique values\n",
            "OHX08CTC: 14 unique values\n",
            "OHX09CTC: 14 unique values\n",
            "OHX10CTC: 13 unique values\n",
            "OHX11CTC: 13 unique values\n",
            "OHX12CTC: 14 unique values\n",
            "OHX13CTC: 13 unique values\n",
            "OHX14CTC: 10 unique values\n",
            "OHX15CTC: 10 unique values\n",
            "OHX18CTC: 11 unique values\n",
            "OHX19CTC: 11 unique values\n",
            "OHX20CTC: 14 unique values\n",
            "OHX21CTC: 13 unique values\n",
            "OHX22CTC: 13 unique values\n",
            "OHX23CTC: 12 unique values\n",
            "OHX24CTC: 12 unique values\n",
            "OHX25CTC: 13 unique values\n",
            "OHX26CTC: 13 unique values\n",
            "OHX27CTC: 12 unique values\n",
            "OHX28CTC: 13 unique values\n",
            "OHX29CTC: 13 unique values\n",
            "OHX30CTC: 11 unique values\n",
            "OHX31CTC: 11 unique values\n",
            "CSXTSEQ: 2 unique values\n",
            "SMDUPCA: 204 unique values\n",
            "SMD100BR: 128 unique values\n",
            "RXDDRUG: 2765 unique values\n"
          ]
        },
        {
          "output_type": "execute_result",
          "data": {
            "text/plain": [
              "(8748, 2100)"
            ]
          },
          "metadata": {},
          "execution_count": 75
        }
      ]
    },
    {
      "cell_type": "code",
      "source": [
        "# Calculate sparsity\n",
        "sparsity = (merged_df == 0).sum() / len(merged_df)\n",
        "\n",
        "# Define threshold (e.g., 90% zeros)\n",
        "threshold = 0.9\n",
        "\n",
        "# Get columns to drop\n",
        "cols_to_drop = sparsity[sparsity > threshold].index\n",
        "\n",
        "# Drop those columns from df\n",
        "merged_df = merged_df.drop(columns=cols_to_drop)\n",
        "\n",
        "print(f\"Dropped {len(cols_to_drop)} highly sparse columns.\")\n",
        "print(f\"New dataframe shape: {merged_df.shape}\")\n"
      ],
      "metadata": {
        "colab": {
          "base_uri": "https://localhost:8080/"
        },
        "id": "8F4L4PPZYTW6",
        "outputId": "0b090f39-cd29-4a5b-cb7b-74d63431f9bf"
      },
      "execution_count": null,
      "outputs": [
        {
          "output_type": "stream",
          "name": "stdout",
          "text": [
            "Dropped 341 highly sparse columns.\n",
            "New dataframe shape: (8748, 1759)\n"
          ]
        }
      ]
    },
    {
      "cell_type": "code",
      "source": [
        "#Engineering new features\n",
        "\n",
        "#age group\n",
        "age_bins=[0,5,15,35,65,100]\n",
        "age_labels=['infant','child','young_adult','adult','senior']\n",
        "merged_df['age_group']=pd.cut(merged_df['RIDAGEYR'],bins=age_bins,labels=age_labels,right=False)\n",
        "merged_df['age_group']=merged_df['age_group'].astype(str)\n",
        "\n",
        "#BMI category\n",
        "if 'BMXBMI' in merged_df:\n",
        "  bmi_bins=[0,18.5,24.9,29.9,100]\n",
        "  bmi_labels=['underweight','normal','overweight','obese']\n",
        "  merged_df['bmi_category']=pd.cut(merged_df['BMXBMI'],bins=bmi_bins,labels=bmi_labels,right=False)\n",
        "\n",
        "\n",
        "#Hypertension\n",
        "def categorize_bp(sys,dia):\n",
        "  if pd.isna(sys) or pd.isna(dia):\n",
        "    return 'unknown'\n",
        "  if sys<120 and dia<80:\n",
        "    return 'normal'\n",
        "  elif 120<=sys<130 and dia<80:\n",
        "    return 'elevated'\n",
        "  elif  130 <= sys < 140 or 80 <= dia < 90:\n",
        "    return 'stage 1'\n",
        "  elif sys >= 140 or dia >= 90:\n",
        "    return 'Stage 2'\n",
        "  else:\n",
        "    return 'unknown'\n",
        "\n",
        "merged_df['hypertension']=merged_df.apply(lambda row: categorize_bp(row.get('BPXSY1'),row.get('BPXDI1')),axis=1)\n",
        "merged_df['hypertension'].astype('category')\n",
        "\n",
        "# Liver Risk Score\n",
        "#if 'LBXSGP' in merged_df and 'LBXSGT' in merged_df:\n",
        "    #merged_df['Liver_Risk_Score'] = (merged_df[['LBXSGP', 'LBXSGT']].mean(axis=1)if 'LBXSGP'and 'LBXSGT' in merged_df else 0)\n",
        "\n",
        "\n",
        "# Smoker\n",
        "if 'SMQ020' in merged_df:\n",
        "    merged_df['Smoker'] = merged_df['SMQ020'].apply(lambda x: 1 if x == 1 else 0)\n",
        "\n",
        "# Alcoholic\n",
        "if 'ALQ101' in merged_df:\n",
        "    merged_df['Alcoholic'] = merged_df['ALQ101'].apply(lambda x: 1 if x == 1 else 0)\n",
        "\n",
        "# Poor Sleep\n",
        "def calc_poor_sleep(age, sleephour):\n",
        "    if pd.isna(sleephour):\n",
        "        return np.nan\n",
        "    if age == 'infant':\n",
        "        return 1 if (sleephour < 7 or sleephour > 13) else 0\n",
        "    elif age == 'child':\n",
        "        return 1 if (sleephour < 7 or sleephour > 10) else 0\n",
        "    elif age == 'young_adult':\n",
        "        return 1 if (sleephour < 7 or sleephour > 9) else 0\n",
        "    elif age == 'adult':\n",
        "        return 1 if (sleephour < 6 or sleephour > 8) else 0\n",
        "    elif age=='senior':\n",
        "        return 1 if (sleephour < 5 or sleephour > 8) else 0\n",
        "    else:\n",
        "        return np.nan\n",
        "\n",
        "if 'SLD010H' in merged_df:\n",
        "    merged_df['Poor_Sleep'] = merged_df.apply(lambda row:calc_poor_sleep(row['age_group'],row['SLD010H']),axis=1)\n",
        "\n",
        "merged_df[['age_group', 'bmi_category', 'hypertension','SLD010H',\n",
        "           'Smoker', 'Alcoholic', 'Poor_Sleep']]\n",
        "\n",
        "\n",
        "\n"
      ],
      "metadata": {
        "colab": {
          "base_uri": "https://localhost:8080/",
          "height": 423
        },
        "id": "hrWn1JN91PJz",
        "outputId": "f6862cb7-b1c7-407e-f436-687c2308aea9"
      },
      "execution_count": null,
      "outputs": [
        {
          "output_type": "execute_result",
          "data": {
            "text/plain": [
              "         age_group bmi_category hypertension  SLD010H  Smoker  Alcoholic  \\\n",
              "0           senior   overweight     elevated  7.00000       1          1   \n",
              "1            adult   overweight      Stage 2  9.00000       1          1   \n",
              "2           senior   overweight      Stage 2  8.00000       1          1   \n",
              "3            child  underweight       normal  7.03693       0          1   \n",
              "4           senior       normal      stage 1  9.00000       0          1   \n",
              "...            ...          ...          ...      ...     ...        ...   \n",
              "10169        adult   overweight       normal  8.00000       0          1   \n",
              "10170  young_adult       normal       normal  7.00000       0          1   \n",
              "10172        adult        obese      stage 1  7.00000       0          1   \n",
              "10173        child  underweight       normal  7.03693       0          1   \n",
              "10174        child       normal       normal  7.03693       0          1   \n",
              "\n",
              "       Poor_Sleep  \n",
              "0               0  \n",
              "1               1  \n",
              "2               0  \n",
              "3               0  \n",
              "4               1  \n",
              "...           ...  \n",
              "10169           0  \n",
              "10170           0  \n",
              "10172           0  \n",
              "10173           0  \n",
              "10174           0  \n",
              "\n",
              "[8748 rows x 7 columns]"
            ],
            "text/html": [
              "\n",
              "  <div id=\"df-b0eb79f9-09ef-4dad-b7a8-4ceb94ecd1da\" class=\"colab-df-container\">\n",
              "    <div>\n",
              "<style scoped>\n",
              "    .dataframe tbody tr th:only-of-type {\n",
              "        vertical-align: middle;\n",
              "    }\n",
              "\n",
              "    .dataframe tbody tr th {\n",
              "        vertical-align: top;\n",
              "    }\n",
              "\n",
              "    .dataframe thead th {\n",
              "        text-align: right;\n",
              "    }\n",
              "</style>\n",
              "<table border=\"1\" class=\"dataframe\">\n",
              "  <thead>\n",
              "    <tr style=\"text-align: right;\">\n",
              "      <th></th>\n",
              "      <th>age_group</th>\n",
              "      <th>bmi_category</th>\n",
              "      <th>hypertension</th>\n",
              "      <th>SLD010H</th>\n",
              "      <th>Smoker</th>\n",
              "      <th>Alcoholic</th>\n",
              "      <th>Poor_Sleep</th>\n",
              "    </tr>\n",
              "  </thead>\n",
              "  <tbody>\n",
              "    <tr>\n",
              "      <th>0</th>\n",
              "      <td>senior</td>\n",
              "      <td>overweight</td>\n",
              "      <td>elevated</td>\n",
              "      <td>7.00000</td>\n",
              "      <td>1</td>\n",
              "      <td>1</td>\n",
              "      <td>0</td>\n",
              "    </tr>\n",
              "    <tr>\n",
              "      <th>1</th>\n",
              "      <td>adult</td>\n",
              "      <td>overweight</td>\n",
              "      <td>Stage 2</td>\n",
              "      <td>9.00000</td>\n",
              "      <td>1</td>\n",
              "      <td>1</td>\n",
              "      <td>1</td>\n",
              "    </tr>\n",
              "    <tr>\n",
              "      <th>2</th>\n",
              "      <td>senior</td>\n",
              "      <td>overweight</td>\n",
              "      <td>Stage 2</td>\n",
              "      <td>8.00000</td>\n",
              "      <td>1</td>\n",
              "      <td>1</td>\n",
              "      <td>0</td>\n",
              "    </tr>\n",
              "    <tr>\n",
              "      <th>3</th>\n",
              "      <td>child</td>\n",
              "      <td>underweight</td>\n",
              "      <td>normal</td>\n",
              "      <td>7.03693</td>\n",
              "      <td>0</td>\n",
              "      <td>1</td>\n",
              "      <td>0</td>\n",
              "    </tr>\n",
              "    <tr>\n",
              "      <th>4</th>\n",
              "      <td>senior</td>\n",
              "      <td>normal</td>\n",
              "      <td>stage 1</td>\n",
              "      <td>9.00000</td>\n",
              "      <td>0</td>\n",
              "      <td>1</td>\n",
              "      <td>1</td>\n",
              "    </tr>\n",
              "    <tr>\n",
              "      <th>...</th>\n",
              "      <td>...</td>\n",
              "      <td>...</td>\n",
              "      <td>...</td>\n",
              "      <td>...</td>\n",
              "      <td>...</td>\n",
              "      <td>...</td>\n",
              "      <td>...</td>\n",
              "    </tr>\n",
              "    <tr>\n",
              "      <th>10169</th>\n",
              "      <td>adult</td>\n",
              "      <td>overweight</td>\n",
              "      <td>normal</td>\n",
              "      <td>8.00000</td>\n",
              "      <td>0</td>\n",
              "      <td>1</td>\n",
              "      <td>0</td>\n",
              "    </tr>\n",
              "    <tr>\n",
              "      <th>10170</th>\n",
              "      <td>young_adult</td>\n",
              "      <td>normal</td>\n",
              "      <td>normal</td>\n",
              "      <td>7.00000</td>\n",
              "      <td>0</td>\n",
              "      <td>1</td>\n",
              "      <td>0</td>\n",
              "    </tr>\n",
              "    <tr>\n",
              "      <th>10172</th>\n",
              "      <td>adult</td>\n",
              "      <td>obese</td>\n",
              "      <td>stage 1</td>\n",
              "      <td>7.00000</td>\n",
              "      <td>0</td>\n",
              "      <td>1</td>\n",
              "      <td>0</td>\n",
              "    </tr>\n",
              "    <tr>\n",
              "      <th>10173</th>\n",
              "      <td>child</td>\n",
              "      <td>underweight</td>\n",
              "      <td>normal</td>\n",
              "      <td>7.03693</td>\n",
              "      <td>0</td>\n",
              "      <td>1</td>\n",
              "      <td>0</td>\n",
              "    </tr>\n",
              "    <tr>\n",
              "      <th>10174</th>\n",
              "      <td>child</td>\n",
              "      <td>normal</td>\n",
              "      <td>normal</td>\n",
              "      <td>7.03693</td>\n",
              "      <td>0</td>\n",
              "      <td>1</td>\n",
              "      <td>0</td>\n",
              "    </tr>\n",
              "  </tbody>\n",
              "</table>\n",
              "<p>8748 rows × 7 columns</p>\n",
              "</div>\n",
              "    <div class=\"colab-df-buttons\">\n",
              "\n",
              "  <div class=\"colab-df-container\">\n",
              "    <button class=\"colab-df-convert\" onclick=\"convertToInteractive('df-b0eb79f9-09ef-4dad-b7a8-4ceb94ecd1da')\"\n",
              "            title=\"Convert this dataframe to an interactive table.\"\n",
              "            style=\"display:none;\">\n",
              "\n",
              "  <svg xmlns=\"http://www.w3.org/2000/svg\" height=\"24px\" viewBox=\"0 -960 960 960\">\n",
              "    <path d=\"M120-120v-720h720v720H120Zm60-500h600v-160H180v160Zm220 220h160v-160H400v160Zm0 220h160v-160H400v160ZM180-400h160v-160H180v160Zm440 0h160v-160H620v160ZM180-180h160v-160H180v160Zm440 0h160v-160H620v160Z\"/>\n",
              "  </svg>\n",
              "    </button>\n",
              "\n",
              "  <style>\n",
              "    .colab-df-container {\n",
              "      display:flex;\n",
              "      gap: 12px;\n",
              "    }\n",
              "\n",
              "    .colab-df-convert {\n",
              "      background-color: #E8F0FE;\n",
              "      border: none;\n",
              "      border-radius: 50%;\n",
              "      cursor: pointer;\n",
              "      display: none;\n",
              "      fill: #1967D2;\n",
              "      height: 32px;\n",
              "      padding: 0 0 0 0;\n",
              "      width: 32px;\n",
              "    }\n",
              "\n",
              "    .colab-df-convert:hover {\n",
              "      background-color: #E2EBFA;\n",
              "      box-shadow: 0px 1px 2px rgba(60, 64, 67, 0.3), 0px 1px 3px 1px rgba(60, 64, 67, 0.15);\n",
              "      fill: #174EA6;\n",
              "    }\n",
              "\n",
              "    .colab-df-buttons div {\n",
              "      margin-bottom: 4px;\n",
              "    }\n",
              "\n",
              "    [theme=dark] .colab-df-convert {\n",
              "      background-color: #3B4455;\n",
              "      fill: #D2E3FC;\n",
              "    }\n",
              "\n",
              "    [theme=dark] .colab-df-convert:hover {\n",
              "      background-color: #434B5C;\n",
              "      box-shadow: 0px 1px 3px 1px rgba(0, 0, 0, 0.15);\n",
              "      filter: drop-shadow(0px 1px 2px rgba(0, 0, 0, 0.3));\n",
              "      fill: #FFFFFF;\n",
              "    }\n",
              "  </style>\n",
              "\n",
              "    <script>\n",
              "      const buttonEl =\n",
              "        document.querySelector('#df-b0eb79f9-09ef-4dad-b7a8-4ceb94ecd1da button.colab-df-convert');\n",
              "      buttonEl.style.display =\n",
              "        google.colab.kernel.accessAllowed ? 'block' : 'none';\n",
              "\n",
              "      async function convertToInteractive(key) {\n",
              "        const element = document.querySelector('#df-b0eb79f9-09ef-4dad-b7a8-4ceb94ecd1da');\n",
              "        const dataTable =\n",
              "          await google.colab.kernel.invokeFunction('convertToInteractive',\n",
              "                                                    [key], {});\n",
              "        if (!dataTable) return;\n",
              "\n",
              "        const docLinkHtml = 'Like what you see? Visit the ' +\n",
              "          '<a target=\"_blank\" href=https://colab.research.google.com/notebooks/data_table.ipynb>data table notebook</a>'\n",
              "          + ' to learn more about interactive tables.';\n",
              "        element.innerHTML = '';\n",
              "        dataTable['output_type'] = 'display_data';\n",
              "        await google.colab.output.renderOutput(dataTable, element);\n",
              "        const docLink = document.createElement('div');\n",
              "        docLink.innerHTML = docLinkHtml;\n",
              "        element.appendChild(docLink);\n",
              "      }\n",
              "    </script>\n",
              "  </div>\n",
              "\n",
              "\n",
              "    <div id=\"df-acd8ead8-8950-4613-af5b-85c3b11183a9\">\n",
              "      <button class=\"colab-df-quickchart\" onclick=\"quickchart('df-acd8ead8-8950-4613-af5b-85c3b11183a9')\"\n",
              "                title=\"Suggest charts\"\n",
              "                style=\"display:none;\">\n",
              "\n",
              "<svg xmlns=\"http://www.w3.org/2000/svg\" height=\"24px\"viewBox=\"0 0 24 24\"\n",
              "     width=\"24px\">\n",
              "    <g>\n",
              "        <path d=\"M19 3H5c-1.1 0-2 .9-2 2v14c0 1.1.9 2 2 2h14c1.1 0 2-.9 2-2V5c0-1.1-.9-2-2-2zM9 17H7v-7h2v7zm4 0h-2V7h2v10zm4 0h-2v-4h2v4z\"/>\n",
              "    </g>\n",
              "</svg>\n",
              "      </button>\n",
              "\n",
              "<style>\n",
              "  .colab-df-quickchart {\n",
              "      --bg-color: #E8F0FE;\n",
              "      --fill-color: #1967D2;\n",
              "      --hover-bg-color: #E2EBFA;\n",
              "      --hover-fill-color: #174EA6;\n",
              "      --disabled-fill-color: #AAA;\n",
              "      --disabled-bg-color: #DDD;\n",
              "  }\n",
              "\n",
              "  [theme=dark] .colab-df-quickchart {\n",
              "      --bg-color: #3B4455;\n",
              "      --fill-color: #D2E3FC;\n",
              "      --hover-bg-color: #434B5C;\n",
              "      --hover-fill-color: #FFFFFF;\n",
              "      --disabled-bg-color: #3B4455;\n",
              "      --disabled-fill-color: #666;\n",
              "  }\n",
              "\n",
              "  .colab-df-quickchart {\n",
              "    background-color: var(--bg-color);\n",
              "    border: none;\n",
              "    border-radius: 50%;\n",
              "    cursor: pointer;\n",
              "    display: none;\n",
              "    fill: var(--fill-color);\n",
              "    height: 32px;\n",
              "    padding: 0;\n",
              "    width: 32px;\n",
              "  }\n",
              "\n",
              "  .colab-df-quickchart:hover {\n",
              "    background-color: var(--hover-bg-color);\n",
              "    box-shadow: 0 1px 2px rgba(60, 64, 67, 0.3), 0 1px 3px 1px rgba(60, 64, 67, 0.15);\n",
              "    fill: var(--button-hover-fill-color);\n",
              "  }\n",
              "\n",
              "  .colab-df-quickchart-complete:disabled,\n",
              "  .colab-df-quickchart-complete:disabled:hover {\n",
              "    background-color: var(--disabled-bg-color);\n",
              "    fill: var(--disabled-fill-color);\n",
              "    box-shadow: none;\n",
              "  }\n",
              "\n",
              "  .colab-df-spinner {\n",
              "    border: 2px solid var(--fill-color);\n",
              "    border-color: transparent;\n",
              "    border-bottom-color: var(--fill-color);\n",
              "    animation:\n",
              "      spin 1s steps(1) infinite;\n",
              "  }\n",
              "\n",
              "  @keyframes spin {\n",
              "    0% {\n",
              "      border-color: transparent;\n",
              "      border-bottom-color: var(--fill-color);\n",
              "      border-left-color: var(--fill-color);\n",
              "    }\n",
              "    20% {\n",
              "      border-color: transparent;\n",
              "      border-left-color: var(--fill-color);\n",
              "      border-top-color: var(--fill-color);\n",
              "    }\n",
              "    30% {\n",
              "      border-color: transparent;\n",
              "      border-left-color: var(--fill-color);\n",
              "      border-top-color: var(--fill-color);\n",
              "      border-right-color: var(--fill-color);\n",
              "    }\n",
              "    40% {\n",
              "      border-color: transparent;\n",
              "      border-right-color: var(--fill-color);\n",
              "      border-top-color: var(--fill-color);\n",
              "    }\n",
              "    60% {\n",
              "      border-color: transparent;\n",
              "      border-right-color: var(--fill-color);\n",
              "    }\n",
              "    80% {\n",
              "      border-color: transparent;\n",
              "      border-right-color: var(--fill-color);\n",
              "      border-bottom-color: var(--fill-color);\n",
              "    }\n",
              "    90% {\n",
              "      border-color: transparent;\n",
              "      border-bottom-color: var(--fill-color);\n",
              "    }\n",
              "  }\n",
              "</style>\n",
              "\n",
              "      <script>\n",
              "        async function quickchart(key) {\n",
              "          const quickchartButtonEl =\n",
              "            document.querySelector('#' + key + ' button');\n",
              "          quickchartButtonEl.disabled = true;  // To prevent multiple clicks.\n",
              "          quickchartButtonEl.classList.add('colab-df-spinner');\n",
              "          try {\n",
              "            const charts = await google.colab.kernel.invokeFunction(\n",
              "                'suggestCharts', [key], {});\n",
              "          } catch (error) {\n",
              "            console.error('Error during call to suggestCharts:', error);\n",
              "          }\n",
              "          quickchartButtonEl.classList.remove('colab-df-spinner');\n",
              "          quickchartButtonEl.classList.add('colab-df-quickchart-complete');\n",
              "        }\n",
              "        (() => {\n",
              "          let quickchartButtonEl =\n",
              "            document.querySelector('#df-acd8ead8-8950-4613-af5b-85c3b11183a9 button');\n",
              "          quickchartButtonEl.style.display =\n",
              "            google.colab.kernel.accessAllowed ? 'block' : 'none';\n",
              "        })();\n",
              "      </script>\n",
              "    </div>\n",
              "\n",
              "    </div>\n",
              "  </div>\n"
            ],
            "application/vnd.google.colaboratory.intrinsic+json": {
              "type": "dataframe",
              "summary": "{\n  \"name\": \"           'Smoker', 'Alcoholic', 'Poor_Sleep']]\",\n  \"rows\": 8748,\n  \"fields\": [\n    {\n      \"column\": \"age_group\",\n      \"properties\": {\n        \"dtype\": \"category\",\n        \"num_unique_values\": 5,\n        \"samples\": [\n          \"adult\",\n          \"infant\",\n          \"child\"\n        ],\n        \"semantic_type\": \"\",\n        \"description\": \"\"\n      }\n    },\n    {\n      \"column\": \"bmi_category\",\n      \"properties\": {\n        \"dtype\": \"category\",\n        \"num_unique_values\": 4,\n        \"samples\": [\n          \"underweight\",\n          \"obese\",\n          \"overweight\"\n        ],\n        \"semantic_type\": \"\",\n        \"description\": \"\"\n      }\n    },\n    {\n      \"column\": \"hypertension\",\n      \"properties\": {\n        \"dtype\": \"category\",\n        \"num_unique_values\": 4,\n        \"samples\": [\n          \"Stage 2\",\n          \"stage 1\",\n          \"elevated\"\n        ],\n        \"semantic_type\": \"\",\n        \"description\": \"\"\n      }\n    },\n    {\n      \"column\": \"SLD010H\",\n      \"properties\": {\n        \"dtype\": \"number\",\n        \"std\": 2.694592501415625,\n        \"min\": 2.0,\n        \"max\": 99.0,\n        \"num_unique_values\": 13,\n        \"samples\": [\n          2.0,\n          12.0,\n          7.0\n        ],\n        \"semantic_type\": \"\",\n        \"description\": \"\"\n      }\n    },\n    {\n      \"column\": \"Smoker\",\n      \"properties\": {\n        \"dtype\": \"number\",\n        \"std\": 0,\n        \"min\": 0,\n        \"max\": 1,\n        \"num_unique_values\": 2,\n        \"samples\": [\n          0,\n          1\n        ],\n        \"semantic_type\": \"\",\n        \"description\": \"\"\n      }\n    },\n    {\n      \"column\": \"Alcoholic\",\n      \"properties\": {\n        \"dtype\": \"number\",\n        \"std\": 0,\n        \"min\": 0,\n        \"max\": 1,\n        \"num_unique_values\": 2,\n        \"samples\": [\n          0,\n          1\n        ],\n        \"semantic_type\": \"\",\n        \"description\": \"\"\n      }\n    },\n    {\n      \"column\": \"Poor_Sleep\",\n      \"properties\": {\n        \"dtype\": \"number\",\n        \"std\": 0,\n        \"min\": 0,\n        \"max\": 1,\n        \"num_unique_values\": 2,\n        \"samples\": [\n          1,\n          0\n        ],\n        \"semantic_type\": \"\",\n        \"description\": \"\"\n      }\n    }\n  ]\n}"
            }
          },
          "metadata": {},
          "execution_count": 77
        }
      ]
    },
    {
      "cell_type": "code",
      "source": [
        "sns.set(style=\"whitegrid\")\n",
        "sns.set_context('paper')\n",
        "plt.figure(figsize=(8, 5))\n",
        "\n",
        "sns.countplot(\n",
        "    data=merged_df,\n",
        "    x='age_group',\n",
        "    hue='hypertension',\n",
        "    palette='dark',\n",
        "    hue_order=['normal', 'elevated', 'stage 1', 'stage 2']\n",
        ")\n",
        "\n",
        "plt.title('Distribution of Hypertension by Age Group')\n",
        "plt.xlabel('Age Group')\n",
        "plt.ylabel('Number of People')\n",
        "plt.legend(title='Hypertension Stage')\n",
        "plt.tight_layout()\n",
        "plt.show()"
      ],
      "metadata": {
        "colab": {
          "base_uri": "https://localhost:8080/",
          "height": 508
        },
        "id": "2BWwc3hpwKc6",
        "outputId": "b6bc809e-566e-4d7b-92be-7d3fcd148982"
      },
      "execution_count": null,
      "outputs": [
        {
          "output_type": "display_data",
          "data": {
            "text/plain": [
              "<Figure size 800x500 with 1 Axes>"
            ],
            "image/png": "[encoded data removed]"
          },
          "metadata": {}
        }
      ]
    },
    {
      "cell_type": "code",
      "source": [
        "sns.set(style=\"darkgrid\")\n",
        "plt.figure(figsize=(8, 5))\n",
        "\n",
        "sns.countplot(data=merged_df, x='age_group', hue='Smoker', palette='colorblind')\n",
        "\n",
        "plt.title('Distribution of Smoking by Age Group')\n",
        "plt.xlabel('Age Group')\n",
        "plt.ylabel('Number of People')\n",
        "plt.legend(title='Smoking', labels=['No','Yes'])\n",
        "plt.tight_layout()\n",
        "plt.show()"
      ],
      "metadata": {
        "colab": {
          "base_uri": "https://localhost:8080/",
          "height": 501
        },
        "id": "ZX7MtqDFs3R5",
        "outputId": "52c71035-c7d3-4b25-b6b4-271f2efc7588"
      },
      "execution_count": null,
      "outputs": [
        {
          "output_type": "display_data",
          "data": {
            "text/plain": [
              "<Figure size 800x500 with 1 Axes>"
            ],
            "image/png": "[encoded data removed]"
          },
          "metadata": {}
        }
      ]
    },
    {
      "cell_type": "code",
      "source": [
        "sns.set(style=\"whitegrid\")\n",
        "plt.figure(figsize=(8, 5))\n",
        "\n",
        "sns.countplot(data=merged_df, x='age_group', hue='Alcoholic', palette='pastel')\n",
        "\n",
        "plt.title('Distribution of Alcoholic by Age Group')\n",
        "plt.xlabel('Age Group')\n",
        "plt.ylabel('Number of People')\n",
        "plt.legend(title='Alcoholic', labels=['No','Yes'])\n",
        "plt.tight_layout()\n",
        "plt.show()"
      ],
      "metadata": {
        "colab": {
          "base_uri": "https://localhost:8080/",
          "height": 501
        },
        "id": "2fEZE0_fz2dr",
        "outputId": "b09751c7-1244-4935-afc6-fc4182fb9218"
      },
      "execution_count": null,
      "outputs": [
        {
          "output_type": "display_data",
          "data": {
            "text/plain": [
              "<Figure size 800x500 with 1 Axes>"
            ],
            "image/png": "[encoded data removed]"
          },
          "metadata": {}
        }
      ]
    },
    {
      "cell_type": "code",
      "source": [
        "sns.set(style=\"whitegrid\")\n",
        "sns.set_context('paper')\n",
        "plt.figure(figsize=(8, 5))\n",
        "\n",
        "sns.countplot(data=merged_df, x='age_group', hue='bmi_category', palette='bright')\n",
        "\n",
        "plt.title('Distribution of BMI by Age Group')\n",
        "plt.xlabel('Age Group')\n",
        "plt.ylabel('Number of People')\n",
        "plt.legend(title='BMI', labels=['underweight','Normal','overweight', 'obese'])\n",
        "plt.tight_layout()\n",
        "plt.show()"
      ],
      "metadata": {
        "colab": {
          "base_uri": "https://localhost:8080/",
          "height": 508
        },
        "id": "mnEnd-_2sIf8",
        "outputId": "b45cbc96-c744-400e-96af-a17dd47f39bf"
      },
      "execution_count": null,
      "outputs": [
        {
          "output_type": "display_data",
          "data": {
            "text/plain": [
              "<Figure size 800x500 with 1 Axes>"
            ],
            "image/png": "[encoded data removed]"
          },
          "metadata": {}
        }
      ]
    },
    {
      "cell_type": "code",
      "source": [
        "sns.set(style=\"whitegrid\")\n",
        "plt.figure(figsize=(8, 5))\n",
        "\n",
        "sns.countplot(data=merged_df, x='age_group', hue='Poor_Sleep', palette='viridis')\n",
        "\n",
        "plt.title('Distribution of Poor Sleep by Age Group')\n",
        "plt.xlabel('Age Group')\n",
        "plt.ylabel('Number of People')\n",
        "plt.legend(title='Poor Sleep', labels=['No', 'Yes'])\n",
        "plt.tight_layout()\n",
        "plt.show()"
      ],
      "metadata": {
        "colab": {
          "base_uri": "https://localhost:8080/",
          "height": 501
        },
        "id": "KqBAu82neDOp",
        "outputId": "b02e15e9-a1c1-42e4-afbc-b19351cd34d0"
      },
      "execution_count": null,
      "outputs": [
        {
          "output_type": "display_data",
          "data": {
            "text/plain": [
              "<Figure size 800x500 with 1 Axes>"
            ],
            "image/png": "[encoded data removed]"
          },
          "metadata": {}
        }
      ]
    },
    {
      "cell_type": "code",
      "source": [
        "num_col=merged_df.select_dtypes(include=['number'])\n",
        "corr_mat=num_col.corr().abs()\n",
        "upper=corr_mat.where(np.triu(np.ones(corr_mat.shape),k=1).astype(bool))\n",
        "to_drop=[col for col in upper.columns if any(upper[col]>0.95)]\n",
        "merged_df.drop(columns=to_drop,inplace=True)"
      ],
      "metadata": {
        "id": "KYBhkFaqnQuJ"
      },
      "execution_count": null,
      "outputs": []
    },
    {
      "cell_type": "code",
      "source": [
        "merged_df.shape\n"
      ],
      "metadata": {
        "colab": {
          "base_uri": "https://localhost:8080/"
        },
        "id": "yYsut41Ko4Bn",
        "outputId": "9c1b21f4-8f08-40a9-a83b-b8b4649de405"
      },
      "execution_count": null,
      "outputs": [
        {
          "output_type": "execute_result",
          "data": {
            "text/plain": [
              "(8748, 1704)"
            ]
          },
          "metadata": {},
          "execution_count": 84
        }
      ]
    },
    {
      "cell_type": "code",
      "source": [
        "merged_df.to_csv('final_health_dataset.csv', index=False)\n",
        "from google.colab import files\n",
        "files.download('final_health_dataset.csv')\n"
      ],
      "metadata": {
        "colab": {
          "base_uri": "https://localhost:8080/",
          "height": 17
        },
        "id": "YmHzTxOz21KJ",
        "outputId": "9d35e3a1-e0e7-4de7-ef03-e05a01d3da89"
      },
      "execution_count": null,
      "outputs": [
        {
          "output_type": "display_data",
          "data": {
            "text/plain": [
              "<IPython.core.display.Javascript object>"
            ],
            "application/javascript": [
              "\n",
              "    async function download(id, filename, size) {\n",
              "      if (!google.colab.kernel.accessAllowed) {\n",
              "        return;\n",
              "      }\n",
              "      const div = document.createElement('div');\n",
              "      const label = document.createElement('label');\n",
              "      label.textContent = `Downloading \"${filename}\": `;\n",
              "      div.appendChild(label);\n",
              "      const progress = document.createElement('progress');\n",
              "      progress.max = size;\n",
              "      div.appendChild(progress);\n",
              "      document.body.appendChild(div);\n",
              "\n",
              "      const buffers = [];\n",
              "      let downloaded = 0;\n",
              "\n",
              "      const channel = await google.colab.kernel.comms.open(id);\n",
              "      // Send a message to notify the kernel that we're ready.\n",
              "      channel.send({})\n",
              "\n",
              "      for await (const message of channel.messages) {\n",
              "        // Send a message to notify the kernel that we're ready.\n",
              "        channel.send({})\n",
              "        if (message.buffers) {\n",
              "          for (const buffer of message.buffers) {\n",
              "            buffers.push(buffer);\n",
              "            downloaded += buffer.byteLength;\n",
              "            progress.value = downloaded;\n",
              "          }\n",
              "        }\n",
              "      }\n",
              "      const blob = new Blob(buffers, {type: 'application/binary'});\n",
              "      const a = document.createElement('a');\n",
              "      a.href = window.URL.createObjectURL(blob);\n",
              "      a.download = filename;\n",
              "      div.appendChild(a);\n",
              "      a.click();\n",
              "      div.remove();\n",
              "    }\n",
              "  "
            ]
          },
          "metadata": {}
        },
        {
          "output_type": "display_data",
          "data": {
            "text/plain": [
              "<IPython.core.display.Javascript object>"
            ],
            "application/javascript": [
              "download(\"download_fd5fbb6c-0a9f-4d73-a430-910ba6b60609\", \"final_health_dataset.csv\", 99124265)"
            ]
          },
          "metadata": {}
        }
      ]
    }
  ]
}